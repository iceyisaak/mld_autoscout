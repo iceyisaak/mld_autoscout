{
 "cells": [
  {
   "attachments": {},
   "cell_type": "markdown",
   "id": "cc3977d3",
   "metadata": {},
   "source": [
    "## Import Libraries"
   ]
  },
  {
   "cell_type": "code",
   "execution_count": 3,
   "id": "ce454bb0",
   "metadata": {},
   "outputs": [],
   "source": [
    "import pandas as pd\n",
    "import numpy as np\n",
    "import matplotlib.pyplot as plt\n",
    "import seaborn as sns\n",
    "%matplotlib inline\n",
    "\n",
    "plt.rcParams[\"figure.figsize\"] = (7,4)\n",
    "import warnings\n",
    "warnings.filterwarnings(\"ignore\")\n",
    "warnings.warn(\"this will not show\")"
   ]
  },
  {
   "cell_type": "code",
   "execution_count": 4,
   "id": "4729752c",
   "metadata": {},
   "outputs": [
    {
     "data": {
      "text/html": [
       "<div>\n",
       "<style scoped>\n",
       "    .dataframe tbody tr th:only-of-type {\n",
       "        vertical-align: middle;\n",
       "    }\n",
       "\n",
       "    .dataframe tbody tr th {\n",
       "        vertical-align: top;\n",
       "    }\n",
       "\n",
       "    .dataframe thead th {\n",
       "        text-align: right;\n",
       "    }\n",
       "</style>\n",
       "<table border=\"1\" class=\"dataframe\">\n",
       "  <thead>\n",
       "    <tr style=\"text-align: right;\">\n",
       "      <th></th>\n",
       "      <th>make_model</th>\n",
       "      <th>body_type</th>\n",
       "      <th>price</th>\n",
       "      <th>vat</th>\n",
       "      <th>km</th>\n",
       "      <th>Type</th>\n",
       "      <th>Fuel</th>\n",
       "      <th>Gears</th>\n",
       "      <th>Comfort_Convenience</th>\n",
       "      <th>Entertainment_Media</th>\n",
       "      <th>...</th>\n",
       "      <th>Previous_Owners</th>\n",
       "      <th>hp_kW</th>\n",
       "      <th>Inspection_new</th>\n",
       "      <th>Paint_Type</th>\n",
       "      <th>Upholstery_type</th>\n",
       "      <th>Gearing_Type</th>\n",
       "      <th>Displacement_cc</th>\n",
       "      <th>Weight_kg</th>\n",
       "      <th>Drive_chain</th>\n",
       "      <th>cons_comb</th>\n",
       "    </tr>\n",
       "  </thead>\n",
       "  <tbody>\n",
       "    <tr>\n",
       "      <th>0</th>\n",
       "      <td>Audi A1</td>\n",
       "      <td>Sedans</td>\n",
       "      <td>15770</td>\n",
       "      <td>VAT deductible</td>\n",
       "      <td>56013.0</td>\n",
       "      <td>Used</td>\n",
       "      <td>Diesel</td>\n",
       "      <td>7.0</td>\n",
       "      <td>Air conditioning,Armrest,Automatic climate con...</td>\n",
       "      <td>Bluetooth,Hands-free equipment,On-board comput...</td>\n",
       "      <td>...</td>\n",
       "      <td>2.0</td>\n",
       "      <td>66.0</td>\n",
       "      <td>1</td>\n",
       "      <td>Metallic</td>\n",
       "      <td>Cloth</td>\n",
       "      <td>Automatic</td>\n",
       "      <td>1422.0</td>\n",
       "      <td>1220.0</td>\n",
       "      <td>front</td>\n",
       "      <td>3.8</td>\n",
       "    </tr>\n",
       "    <tr>\n",
       "      <th>1</th>\n",
       "      <td>Audi A1</td>\n",
       "      <td>Sedans</td>\n",
       "      <td>14500</td>\n",
       "      <td>Price negotiable</td>\n",
       "      <td>80000.0</td>\n",
       "      <td>Used</td>\n",
       "      <td>Benzine</td>\n",
       "      <td>7.0</td>\n",
       "      <td>Air conditioning,Automatic climate control,Hil...</td>\n",
       "      <td>Bluetooth,Hands-free equipment,On-board comput...</td>\n",
       "      <td>...</td>\n",
       "      <td>1.0</td>\n",
       "      <td>141.0</td>\n",
       "      <td>0</td>\n",
       "      <td>Metallic</td>\n",
       "      <td>Cloth</td>\n",
       "      <td>Automatic</td>\n",
       "      <td>1798.0</td>\n",
       "      <td>1255.0</td>\n",
       "      <td>front</td>\n",
       "      <td>5.6</td>\n",
       "    </tr>\n",
       "    <tr>\n",
       "      <th>2</th>\n",
       "      <td>Audi A1</td>\n",
       "      <td>Sedans</td>\n",
       "      <td>14640</td>\n",
       "      <td>VAT deductible</td>\n",
       "      <td>83450.0</td>\n",
       "      <td>Used</td>\n",
       "      <td>Diesel</td>\n",
       "      <td>7.0</td>\n",
       "      <td>Air conditioning,Cruise control,Electrical sid...</td>\n",
       "      <td>MP3,On-board computer</td>\n",
       "      <td>...</td>\n",
       "      <td>1.0</td>\n",
       "      <td>85.0</td>\n",
       "      <td>0</td>\n",
       "      <td>Metallic</td>\n",
       "      <td>Cloth</td>\n",
       "      <td>Automatic</td>\n",
       "      <td>1598.0</td>\n",
       "      <td>1135.0</td>\n",
       "      <td>front</td>\n",
       "      <td>3.8</td>\n",
       "    </tr>\n",
       "    <tr>\n",
       "      <th>3</th>\n",
       "      <td>Audi A1</td>\n",
       "      <td>Sedans</td>\n",
       "      <td>14500</td>\n",
       "      <td>VAT deductible</td>\n",
       "      <td>73000.0</td>\n",
       "      <td>Used</td>\n",
       "      <td>Diesel</td>\n",
       "      <td>6.0</td>\n",
       "      <td>Air suspension,Armrest,Auxiliary heating,Elect...</td>\n",
       "      <td>Bluetooth,CD player,Hands-free equipment,MP3,O...</td>\n",
       "      <td>...</td>\n",
       "      <td>1.0</td>\n",
       "      <td>66.0</td>\n",
       "      <td>0</td>\n",
       "      <td>Metallic</td>\n",
       "      <td>Cloth</td>\n",
       "      <td>Automatic</td>\n",
       "      <td>1422.0</td>\n",
       "      <td>1195.0</td>\n",
       "      <td>front</td>\n",
       "      <td>3.8</td>\n",
       "    </tr>\n",
       "    <tr>\n",
       "      <th>4</th>\n",
       "      <td>Audi A1</td>\n",
       "      <td>Sedans</td>\n",
       "      <td>16790</td>\n",
       "      <td>VAT deductible</td>\n",
       "      <td>16200.0</td>\n",
       "      <td>Used</td>\n",
       "      <td>Diesel</td>\n",
       "      <td>7.0</td>\n",
       "      <td>Air conditioning,Armrest,Automatic climate con...</td>\n",
       "      <td>Bluetooth,CD player,Hands-free equipment,MP3,O...</td>\n",
       "      <td>...</td>\n",
       "      <td>1.0</td>\n",
       "      <td>66.0</td>\n",
       "      <td>1</td>\n",
       "      <td>Metallic</td>\n",
       "      <td>Cloth</td>\n",
       "      <td>Automatic</td>\n",
       "      <td>1422.0</td>\n",
       "      <td>1135.0</td>\n",
       "      <td>front</td>\n",
       "      <td>4.1</td>\n",
       "    </tr>\n",
       "  </tbody>\n",
       "</table>\n",
       "<p>5 rows × 23 columns</p>\n",
       "</div>"
      ],
      "text/plain": [
       "  make_model body_type  price               vat       km  Type     Fuel  \\\n",
       "0    Audi A1    Sedans  15770    VAT deductible  56013.0  Used   Diesel   \n",
       "1    Audi A1    Sedans  14500  Price negotiable  80000.0  Used  Benzine   \n",
       "2    Audi A1    Sedans  14640    VAT deductible  83450.0  Used   Diesel   \n",
       "3    Audi A1    Sedans  14500    VAT deductible  73000.0  Used   Diesel   \n",
       "4    Audi A1    Sedans  16790    VAT deductible  16200.0  Used   Diesel   \n",
       "\n",
       "   Gears                                Comfort_Convenience  \\\n",
       "0    7.0  Air conditioning,Armrest,Automatic climate con...   \n",
       "1    7.0  Air conditioning,Automatic climate control,Hil...   \n",
       "2    7.0  Air conditioning,Cruise control,Electrical sid...   \n",
       "3    6.0  Air suspension,Armrest,Auxiliary heating,Elect...   \n",
       "4    7.0  Air conditioning,Armrest,Automatic climate con...   \n",
       "\n",
       "                                 Entertainment_Media  ... Previous_Owners  \\\n",
       "0  Bluetooth,Hands-free equipment,On-board comput...  ...             2.0   \n",
       "1  Bluetooth,Hands-free equipment,On-board comput...  ...             1.0   \n",
       "2                              MP3,On-board computer  ...             1.0   \n",
       "3  Bluetooth,CD player,Hands-free equipment,MP3,O...  ...             1.0   \n",
       "4  Bluetooth,CD player,Hands-free equipment,MP3,O...  ...             1.0   \n",
       "\n",
       "   hp_kW  Inspection_new  Paint_Type  Upholstery_type  Gearing_Type  \\\n",
       "0   66.0               1    Metallic            Cloth     Automatic   \n",
       "1  141.0               0    Metallic            Cloth     Automatic   \n",
       "2   85.0               0    Metallic            Cloth     Automatic   \n",
       "3   66.0               0    Metallic            Cloth     Automatic   \n",
       "4   66.0               1    Metallic            Cloth     Automatic   \n",
       "\n",
       "  Displacement_cc Weight_kg Drive_chain  cons_comb  \n",
       "0          1422.0    1220.0       front        3.8  \n",
       "1          1798.0    1255.0       front        5.6  \n",
       "2          1598.0    1135.0       front        3.8  \n",
       "3          1422.0    1195.0       front        3.8  \n",
       "4          1422.0    1135.0       front        4.1  \n",
       "\n",
       "[5 rows x 23 columns]"
      ]
     },
     "execution_count": 4,
     "metadata": {},
     "output_type": "execute_result"
    }
   ],
   "source": [
    "df = pd.read_csv('mld_autoscout.csv')\n",
    "df.head()"
   ]
  },
  {
   "attachments": {},
   "cell_type": "markdown",
   "id": "06944f7f",
   "metadata": {},
   "source": [
    "## Exploratory Data Analysis and Visualization"
   ]
  },
  {
   "cell_type": "code",
   "execution_count": 5,
   "id": "689fc85a",
   "metadata": {},
   "outputs": [
    {
     "name": "stdout",
     "output_type": "stream",
     "text": [
      "<class 'pandas.core.frame.DataFrame'>\n",
      "RangeIndex: 15915 entries, 0 to 15914\n",
      "Data columns (total 23 columns):\n",
      " #   Column               Non-Null Count  Dtype  \n",
      "---  ------               --------------  -----  \n",
      " 0   make_model           15915 non-null  object \n",
      " 1   body_type            15915 non-null  object \n",
      " 2   price                15915 non-null  int64  \n",
      " 3   vat                  15915 non-null  object \n",
      " 4   km                   15915 non-null  float64\n",
      " 5   Type                 15915 non-null  object \n",
      " 6   Fuel                 15915 non-null  object \n",
      " 7   Gears                15915 non-null  float64\n",
      " 8   Comfort_Convenience  15915 non-null  object \n",
      " 9   Entertainment_Media  15915 non-null  object \n",
      " 10  Extras               15915 non-null  object \n",
      " 11  Safety_Security      15915 non-null  object \n",
      " 12  age                  15915 non-null  float64\n",
      " 13  Previous_Owners      15915 non-null  float64\n",
      " 14  hp_kW                15915 non-null  float64\n",
      " 15  Inspection_new       15915 non-null  int64  \n",
      " 16  Paint_Type           15915 non-null  object \n",
      " 17  Upholstery_type      15915 non-null  object \n",
      " 18  Gearing_Type         15915 non-null  object \n",
      " 19  Displacement_cc      15915 non-null  float64\n",
      " 20  Weight_kg            15915 non-null  float64\n",
      " 21  Drive_chain          15915 non-null  object \n",
      " 22  cons_comb            15915 non-null  float64\n",
      "dtypes: float64(8), int64(2), object(13)\n",
      "memory usage: 2.8+ MB\n"
     ]
    }
   ],
   "source": [
    "df.info()"
   ]
  },
  {
   "cell_type": "code",
   "execution_count": 6,
   "id": "c741379e",
   "metadata": {},
   "outputs": [
    {
     "data": {
      "text/plain": [
       "(15915, 23)"
      ]
     },
     "execution_count": 6,
     "metadata": {},
     "output_type": "execute_result"
    }
   ],
   "source": [
    "df.shape"
   ]
  },
  {
   "cell_type": "code",
   "execution_count": 7,
   "id": "b36b081d",
   "metadata": {},
   "outputs": [
    {
     "data": {
      "text/html": [
       "<div>\n",
       "<style scoped>\n",
       "    .dataframe tbody tr th:only-of-type {\n",
       "        vertical-align: middle;\n",
       "    }\n",
       "\n",
       "    .dataframe tbody tr th {\n",
       "        vertical-align: top;\n",
       "    }\n",
       "\n",
       "    .dataframe thead th {\n",
       "        text-align: right;\n",
       "    }\n",
       "</style>\n",
       "<table border=\"1\" class=\"dataframe\">\n",
       "  <thead>\n",
       "    <tr style=\"text-align: right;\">\n",
       "      <th></th>\n",
       "      <th>price</th>\n",
       "      <th>km</th>\n",
       "      <th>Gears</th>\n",
       "      <th>age</th>\n",
       "      <th>Previous_Owners</th>\n",
       "      <th>hp_kW</th>\n",
       "      <th>Inspection_new</th>\n",
       "      <th>Displacement_cc</th>\n",
       "      <th>Weight_kg</th>\n",
       "      <th>cons_comb</th>\n",
       "    </tr>\n",
       "  </thead>\n",
       "  <tbody>\n",
       "    <tr>\n",
       "      <th>count</th>\n",
       "      <td>15915.000000</td>\n",
       "      <td>15915.000000</td>\n",
       "      <td>15915.000000</td>\n",
       "      <td>15915.000000</td>\n",
       "      <td>15915.000000</td>\n",
       "      <td>15915.000000</td>\n",
       "      <td>15915.000000</td>\n",
       "      <td>15915.000000</td>\n",
       "      <td>15915.000000</td>\n",
       "      <td>15915.000000</td>\n",
       "    </tr>\n",
       "    <tr>\n",
       "      <th>mean</th>\n",
       "      <td>18024.380584</td>\n",
       "      <td>32089.995708</td>\n",
       "      <td>5.937355</td>\n",
       "      <td>1.389695</td>\n",
       "      <td>1.042853</td>\n",
       "      <td>88.499340</td>\n",
       "      <td>0.247063</td>\n",
       "      <td>1428.661891</td>\n",
       "      <td>1337.700534</td>\n",
       "      <td>4.832124</td>\n",
       "    </tr>\n",
       "    <tr>\n",
       "      <th>std</th>\n",
       "      <td>7381.679318</td>\n",
       "      <td>36977.214964</td>\n",
       "      <td>0.704772</td>\n",
       "      <td>1.121306</td>\n",
       "      <td>0.339178</td>\n",
       "      <td>26.674341</td>\n",
       "      <td>0.431317</td>\n",
       "      <td>275.804272</td>\n",
       "      <td>199.682385</td>\n",
       "      <td>0.867530</td>\n",
       "    </tr>\n",
       "    <tr>\n",
       "      <th>min</th>\n",
       "      <td>4950.000000</td>\n",
       "      <td>0.000000</td>\n",
       "      <td>5.000000</td>\n",
       "      <td>0.000000</td>\n",
       "      <td>0.000000</td>\n",
       "      <td>40.000000</td>\n",
       "      <td>0.000000</td>\n",
       "      <td>890.000000</td>\n",
       "      <td>840.000000</td>\n",
       "      <td>3.000000</td>\n",
       "    </tr>\n",
       "    <tr>\n",
       "      <th>25%</th>\n",
       "      <td>12850.000000</td>\n",
       "      <td>1920.500000</td>\n",
       "      <td>5.000000</td>\n",
       "      <td>0.000000</td>\n",
       "      <td>1.000000</td>\n",
       "      <td>66.000000</td>\n",
       "      <td>0.000000</td>\n",
       "      <td>1229.000000</td>\n",
       "      <td>1165.000000</td>\n",
       "      <td>4.100000</td>\n",
       "    </tr>\n",
       "    <tr>\n",
       "      <th>50%</th>\n",
       "      <td>16900.000000</td>\n",
       "      <td>20413.000000</td>\n",
       "      <td>6.000000</td>\n",
       "      <td>1.000000</td>\n",
       "      <td>1.000000</td>\n",
       "      <td>85.000000</td>\n",
       "      <td>0.000000</td>\n",
       "      <td>1461.000000</td>\n",
       "      <td>1295.000000</td>\n",
       "      <td>4.800000</td>\n",
       "    </tr>\n",
       "    <tr>\n",
       "      <th>75%</th>\n",
       "      <td>21900.000000</td>\n",
       "      <td>46900.000000</td>\n",
       "      <td>6.000000</td>\n",
       "      <td>2.000000</td>\n",
       "      <td>1.000000</td>\n",
       "      <td>103.000000</td>\n",
       "      <td>0.000000</td>\n",
       "      <td>1598.000000</td>\n",
       "      <td>1472.000000</td>\n",
       "      <td>5.400000</td>\n",
       "    </tr>\n",
       "    <tr>\n",
       "      <th>max</th>\n",
       "      <td>74600.000000</td>\n",
       "      <td>317000.000000</td>\n",
       "      <td>8.000000</td>\n",
       "      <td>3.000000</td>\n",
       "      <td>4.000000</td>\n",
       "      <td>294.000000</td>\n",
       "      <td>1.000000</td>\n",
       "      <td>2967.000000</td>\n",
       "      <td>2471.000000</td>\n",
       "      <td>9.100000</td>\n",
       "    </tr>\n",
       "  </tbody>\n",
       "</table>\n",
       "</div>"
      ],
      "text/plain": [
       "              price             km         Gears           age  \\\n",
       "count  15915.000000   15915.000000  15915.000000  15915.000000   \n",
       "mean   18024.380584   32089.995708      5.937355      1.389695   \n",
       "std     7381.679318   36977.214964      0.704772      1.121306   \n",
       "min     4950.000000       0.000000      5.000000      0.000000   \n",
       "25%    12850.000000    1920.500000      5.000000      0.000000   \n",
       "50%    16900.000000   20413.000000      6.000000      1.000000   \n",
       "75%    21900.000000   46900.000000      6.000000      2.000000   \n",
       "max    74600.000000  317000.000000      8.000000      3.000000   \n",
       "\n",
       "       Previous_Owners         hp_kW  Inspection_new  Displacement_cc  \\\n",
       "count     15915.000000  15915.000000    15915.000000     15915.000000   \n",
       "mean          1.042853     88.499340        0.247063      1428.661891   \n",
       "std           0.339178     26.674341        0.431317       275.804272   \n",
       "min           0.000000     40.000000        0.000000       890.000000   \n",
       "25%           1.000000     66.000000        0.000000      1229.000000   \n",
       "50%           1.000000     85.000000        0.000000      1461.000000   \n",
       "75%           1.000000    103.000000        0.000000      1598.000000   \n",
       "max           4.000000    294.000000        1.000000      2967.000000   \n",
       "\n",
       "          Weight_kg     cons_comb  \n",
       "count  15915.000000  15915.000000  \n",
       "mean    1337.700534      4.832124  \n",
       "std      199.682385      0.867530  \n",
       "min      840.000000      3.000000  \n",
       "25%     1165.000000      4.100000  \n",
       "50%     1295.000000      4.800000  \n",
       "75%     1472.000000      5.400000  \n",
       "max     2471.000000      9.100000  "
      ]
     },
     "execution_count": 7,
     "metadata": {},
     "output_type": "execute_result"
    }
   ],
   "source": [
    "df.describe()"
   ]
  },
  {
   "cell_type": "code",
   "execution_count": 8,
   "id": "c69cf9f1",
   "metadata": {},
   "outputs": [
    {
     "ename": "ValueError",
     "evalue": "Could not interpret value `Outcome` for `x`. An entry with this name does not appear in `data`.",
     "output_type": "error",
     "traceback": [
      "\u001b[0;31m---------------------------------------------------------------------------\u001b[0m",
      "\u001b[0;31mValueError\u001b[0m                                Traceback (most recent call last)",
      "Cell \u001b[0;32mIn[8], line 1\u001b[0m\n\u001b[0;32m----> 1\u001b[0m ax \u001b[38;5;241m=\u001b[39m \u001b[43msns\u001b[49m\u001b[38;5;241;43m.\u001b[39;49m\u001b[43mcountplot\u001b[49m\u001b[43m(\u001b[49m\u001b[43mx\u001b[49m\u001b[38;5;241;43m=\u001b[39;49m\u001b[38;5;124;43m'\u001b[39;49m\u001b[38;5;124;43mOutcome\u001b[39;49m\u001b[38;5;124;43m'\u001b[39;49m\u001b[43m,\u001b[49m\u001b[43m \u001b[49m\u001b[43mdata\u001b[49m\u001b[38;5;241;43m=\u001b[39;49m\u001b[43mdf\u001b[49m\u001b[43m)\u001b[49m\n\u001b[1;32m      2\u001b[0m ax\u001b[38;5;241m.\u001b[39mbar_label(ax\u001b[38;5;241m.\u001b[39mcontainers[\u001b[38;5;241m0\u001b[39m]);\n",
      "File \u001b[0;32m/opt/anaconda3/envs/streamlit/lib/python3.8/site-packages/seaborn/categorical.py:2631\u001b[0m, in \u001b[0;36mcountplot\u001b[0;34m(data, x, y, hue, order, hue_order, orient, color, palette, saturation, fill, hue_norm, stat, width, dodge, gap, log_scale, native_scale, formatter, legend, ax, **kwargs)\u001b[0m\n\u001b[1;32m   2628\u001b[0m \u001b[38;5;28;01melif\u001b[39;00m x \u001b[38;5;129;01mis\u001b[39;00m \u001b[38;5;129;01mnot\u001b[39;00m \u001b[38;5;28;01mNone\u001b[39;00m \u001b[38;5;129;01mand\u001b[39;00m y \u001b[38;5;129;01mis\u001b[39;00m \u001b[38;5;129;01mnot\u001b[39;00m \u001b[38;5;28;01mNone\u001b[39;00m:\n\u001b[1;32m   2629\u001b[0m     \u001b[38;5;28;01mraise\u001b[39;00m \u001b[38;5;167;01mTypeError\u001b[39;00m(\u001b[38;5;124m\"\u001b[39m\u001b[38;5;124mCannot pass values for both `x` and `y`.\u001b[39m\u001b[38;5;124m\"\u001b[39m)\n\u001b[0;32m-> 2631\u001b[0m p \u001b[38;5;241m=\u001b[39m \u001b[43m_CategoricalAggPlotter\u001b[49m\u001b[43m(\u001b[49m\n\u001b[1;32m   2632\u001b[0m \u001b[43m    \u001b[49m\u001b[43mdata\u001b[49m\u001b[38;5;241;43m=\u001b[39;49m\u001b[43mdata\u001b[49m\u001b[43m,\u001b[49m\n\u001b[1;32m   2633\u001b[0m \u001b[43m    \u001b[49m\u001b[43mvariables\u001b[49m\u001b[38;5;241;43m=\u001b[39;49m\u001b[38;5;28;43mdict\u001b[39;49m\u001b[43m(\u001b[49m\u001b[43mx\u001b[49m\u001b[38;5;241;43m=\u001b[39;49m\u001b[43mx\u001b[49m\u001b[43m,\u001b[49m\u001b[43m \u001b[49m\u001b[43my\u001b[49m\u001b[38;5;241;43m=\u001b[39;49m\u001b[43my\u001b[49m\u001b[43m,\u001b[49m\u001b[43m \u001b[49m\u001b[43mhue\u001b[49m\u001b[38;5;241;43m=\u001b[39;49m\u001b[43mhue\u001b[49m\u001b[43m)\u001b[49m\u001b[43m,\u001b[49m\n\u001b[1;32m   2634\u001b[0m \u001b[43m    \u001b[49m\u001b[43morder\u001b[49m\u001b[38;5;241;43m=\u001b[39;49m\u001b[43morder\u001b[49m\u001b[43m,\u001b[49m\n\u001b[1;32m   2635\u001b[0m \u001b[43m    \u001b[49m\u001b[43morient\u001b[49m\u001b[38;5;241;43m=\u001b[39;49m\u001b[43morient\u001b[49m\u001b[43m,\u001b[49m\n\u001b[1;32m   2636\u001b[0m \u001b[43m    \u001b[49m\u001b[43mcolor\u001b[49m\u001b[38;5;241;43m=\u001b[39;49m\u001b[43mcolor\u001b[49m\u001b[43m,\u001b[49m\n\u001b[1;32m   2637\u001b[0m \u001b[43m    \u001b[49m\u001b[43mlegend\u001b[49m\u001b[38;5;241;43m=\u001b[39;49m\u001b[43mlegend\u001b[49m\u001b[43m,\u001b[49m\n\u001b[1;32m   2638\u001b[0m \u001b[43m\u001b[49m\u001b[43m)\u001b[49m\n\u001b[1;32m   2640\u001b[0m \u001b[38;5;28;01mif\u001b[39;00m ax \u001b[38;5;129;01mis\u001b[39;00m \u001b[38;5;28;01mNone\u001b[39;00m:\n\u001b[1;32m   2641\u001b[0m     ax \u001b[38;5;241m=\u001b[39m plt\u001b[38;5;241m.\u001b[39mgca()\n",
      "File \u001b[0;32m/opt/anaconda3/envs/streamlit/lib/python3.8/site-packages/seaborn/categorical.py:67\u001b[0m, in \u001b[0;36m_CategoricalPlotter.__init__\u001b[0;34m(self, data, variables, order, orient, require_numeric, color, legend)\u001b[0m\n\u001b[1;32m     56\u001b[0m \u001b[38;5;28;01mdef\u001b[39;00m \u001b[38;5;21m__init__\u001b[39m(\n\u001b[1;32m     57\u001b[0m     \u001b[38;5;28mself\u001b[39m,\n\u001b[1;32m     58\u001b[0m     data\u001b[38;5;241m=\u001b[39m\u001b[38;5;28;01mNone\u001b[39;00m,\n\u001b[0;32m   (...)\u001b[0m\n\u001b[1;32m     64\u001b[0m     legend\u001b[38;5;241m=\u001b[39m\u001b[38;5;124m\"\u001b[39m\u001b[38;5;124mauto\u001b[39m\u001b[38;5;124m\"\u001b[39m,\n\u001b[1;32m     65\u001b[0m ):\n\u001b[0;32m---> 67\u001b[0m     \u001b[38;5;28;43msuper\u001b[39;49m\u001b[43m(\u001b[49m\u001b[43m)\u001b[49m\u001b[38;5;241;43m.\u001b[39;49m\u001b[38;5;21;43m__init__\u001b[39;49m\u001b[43m(\u001b[49m\u001b[43mdata\u001b[49m\u001b[38;5;241;43m=\u001b[39;49m\u001b[43mdata\u001b[49m\u001b[43m,\u001b[49m\u001b[43m \u001b[49m\u001b[43mvariables\u001b[49m\u001b[38;5;241;43m=\u001b[39;49m\u001b[43mvariables\u001b[49m\u001b[43m)\u001b[49m\n\u001b[1;32m     69\u001b[0m     \u001b[38;5;66;03m# This method takes care of some bookkeeping that is necessary because the\u001b[39;00m\n\u001b[1;32m     70\u001b[0m     \u001b[38;5;66;03m# original categorical plots (prior to the 2021 refactor) had some rules that\u001b[39;00m\n\u001b[1;32m     71\u001b[0m     \u001b[38;5;66;03m# don't fit exactly into VectorPlotter logic. It may be wise to have a second\u001b[39;00m\n\u001b[0;32m   (...)\u001b[0m\n\u001b[1;32m     76\u001b[0m     \u001b[38;5;66;03m# default VectorPlotter rules. If we do decide to make orient part of the\u001b[39;00m\n\u001b[1;32m     77\u001b[0m     \u001b[38;5;66;03m# _base variable assignment, we'll want to figure out how to express that.\u001b[39;00m\n\u001b[1;32m     78\u001b[0m     \u001b[38;5;28;01mif\u001b[39;00m \u001b[38;5;28mself\u001b[39m\u001b[38;5;241m.\u001b[39minput_format \u001b[38;5;241m==\u001b[39m \u001b[38;5;124m\"\u001b[39m\u001b[38;5;124mwide\u001b[39m\u001b[38;5;124m\"\u001b[39m \u001b[38;5;129;01mand\u001b[39;00m orient \u001b[38;5;129;01min\u001b[39;00m [\u001b[38;5;124m\"\u001b[39m\u001b[38;5;124mh\u001b[39m\u001b[38;5;124m\"\u001b[39m, \u001b[38;5;124m\"\u001b[39m\u001b[38;5;124my\u001b[39m\u001b[38;5;124m\"\u001b[39m]:\n",
      "File \u001b[0;32m/opt/anaconda3/envs/streamlit/lib/python3.8/site-packages/seaborn/_base.py:634\u001b[0m, in \u001b[0;36mVectorPlotter.__init__\u001b[0;34m(self, data, variables)\u001b[0m\n\u001b[1;32m    629\u001b[0m \u001b[38;5;66;03m# var_ordered is relevant only for categorical axis variables, and may\u001b[39;00m\n\u001b[1;32m    630\u001b[0m \u001b[38;5;66;03m# be better handled by an internal axis information object that tracks\u001b[39;00m\n\u001b[1;32m    631\u001b[0m \u001b[38;5;66;03m# such information and is set up by the scale_* methods. The analogous\u001b[39;00m\n\u001b[1;32m    632\u001b[0m \u001b[38;5;66;03m# information for numeric axes would be information about log scales.\u001b[39;00m\n\u001b[1;32m    633\u001b[0m \u001b[38;5;28mself\u001b[39m\u001b[38;5;241m.\u001b[39m_var_ordered \u001b[38;5;241m=\u001b[39m {\u001b[38;5;124m\"\u001b[39m\u001b[38;5;124mx\u001b[39m\u001b[38;5;124m\"\u001b[39m: \u001b[38;5;28;01mFalse\u001b[39;00m, \u001b[38;5;124m\"\u001b[39m\u001b[38;5;124my\u001b[39m\u001b[38;5;124m\"\u001b[39m: \u001b[38;5;28;01mFalse\u001b[39;00m}  \u001b[38;5;66;03m# alt., used DefaultDict\u001b[39;00m\n\u001b[0;32m--> 634\u001b[0m \u001b[38;5;28;43mself\u001b[39;49m\u001b[38;5;241;43m.\u001b[39;49m\u001b[43massign_variables\u001b[49m\u001b[43m(\u001b[49m\u001b[43mdata\u001b[49m\u001b[43m,\u001b[49m\u001b[43m \u001b[49m\u001b[43mvariables\u001b[49m\u001b[43m)\u001b[49m\n\u001b[1;32m    636\u001b[0m \u001b[38;5;66;03m# TODO Lots of tests assume that these are called to initialize the\u001b[39;00m\n\u001b[1;32m    637\u001b[0m \u001b[38;5;66;03m# mappings to default values on class initialization. I'd prefer to\u001b[39;00m\n\u001b[1;32m    638\u001b[0m \u001b[38;5;66;03m# move away from that and only have a mapping when explicitly called.\u001b[39;00m\n\u001b[1;32m    639\u001b[0m \u001b[38;5;28;01mfor\u001b[39;00m var \u001b[38;5;129;01min\u001b[39;00m [\u001b[38;5;124m\"\u001b[39m\u001b[38;5;124mhue\u001b[39m\u001b[38;5;124m\"\u001b[39m, \u001b[38;5;124m\"\u001b[39m\u001b[38;5;124msize\u001b[39m\u001b[38;5;124m\"\u001b[39m, \u001b[38;5;124m\"\u001b[39m\u001b[38;5;124mstyle\u001b[39m\u001b[38;5;124m\"\u001b[39m]:\n",
      "File \u001b[0;32m/opt/anaconda3/envs/streamlit/lib/python3.8/site-packages/seaborn/_base.py:679\u001b[0m, in \u001b[0;36mVectorPlotter.assign_variables\u001b[0;34m(self, data, variables)\u001b[0m\n\u001b[1;32m    674\u001b[0m \u001b[38;5;28;01melse\u001b[39;00m:\n\u001b[1;32m    675\u001b[0m     \u001b[38;5;66;03m# When dealing with long-form input, use the newer PlotData\u001b[39;00m\n\u001b[1;32m    676\u001b[0m     \u001b[38;5;66;03m# object (internal but introduced for the objects interface)\u001b[39;00m\n\u001b[1;32m    677\u001b[0m     \u001b[38;5;66;03m# to centralize / standardize data consumption logic.\u001b[39;00m\n\u001b[1;32m    678\u001b[0m     \u001b[38;5;28mself\u001b[39m\u001b[38;5;241m.\u001b[39minput_format \u001b[38;5;241m=\u001b[39m \u001b[38;5;124m\"\u001b[39m\u001b[38;5;124mlong\u001b[39m\u001b[38;5;124m\"\u001b[39m\n\u001b[0;32m--> 679\u001b[0m     plot_data \u001b[38;5;241m=\u001b[39m \u001b[43mPlotData\u001b[49m\u001b[43m(\u001b[49m\u001b[43mdata\u001b[49m\u001b[43m,\u001b[49m\u001b[43m \u001b[49m\u001b[43mvariables\u001b[49m\u001b[43m)\u001b[49m\n\u001b[1;32m    680\u001b[0m     frame \u001b[38;5;241m=\u001b[39m plot_data\u001b[38;5;241m.\u001b[39mframe\n\u001b[1;32m    681\u001b[0m     names \u001b[38;5;241m=\u001b[39m plot_data\u001b[38;5;241m.\u001b[39mnames\n",
      "File \u001b[0;32m/opt/anaconda3/envs/streamlit/lib/python3.8/site-packages/seaborn/_core/data.py:58\u001b[0m, in \u001b[0;36mPlotData.__init__\u001b[0;34m(self, data, variables)\u001b[0m\n\u001b[1;32m     51\u001b[0m \u001b[38;5;28;01mdef\u001b[39;00m \u001b[38;5;21m__init__\u001b[39m(\n\u001b[1;32m     52\u001b[0m     \u001b[38;5;28mself\u001b[39m,\n\u001b[1;32m     53\u001b[0m     data: DataSource,\n\u001b[1;32m     54\u001b[0m     variables: \u001b[38;5;28mdict\u001b[39m[\u001b[38;5;28mstr\u001b[39m, VariableSpec],\n\u001b[1;32m     55\u001b[0m ):\n\u001b[1;32m     57\u001b[0m     data \u001b[38;5;241m=\u001b[39m handle_data_source(data)\n\u001b[0;32m---> 58\u001b[0m     frame, names, ids \u001b[38;5;241m=\u001b[39m \u001b[38;5;28;43mself\u001b[39;49m\u001b[38;5;241;43m.\u001b[39;49m\u001b[43m_assign_variables\u001b[49m\u001b[43m(\u001b[49m\u001b[43mdata\u001b[49m\u001b[43m,\u001b[49m\u001b[43m \u001b[49m\u001b[43mvariables\u001b[49m\u001b[43m)\u001b[49m\n\u001b[1;32m     60\u001b[0m     \u001b[38;5;28mself\u001b[39m\u001b[38;5;241m.\u001b[39mframe \u001b[38;5;241m=\u001b[39m frame\n\u001b[1;32m     61\u001b[0m     \u001b[38;5;28mself\u001b[39m\u001b[38;5;241m.\u001b[39mnames \u001b[38;5;241m=\u001b[39m names\n",
      "File \u001b[0;32m/opt/anaconda3/envs/streamlit/lib/python3.8/site-packages/seaborn/_core/data.py:232\u001b[0m, in \u001b[0;36mPlotData._assign_variables\u001b[0;34m(self, data, variables)\u001b[0m\n\u001b[1;32m    230\u001b[0m     \u001b[38;5;28;01melse\u001b[39;00m:\n\u001b[1;32m    231\u001b[0m         err \u001b[38;5;241m+\u001b[39m\u001b[38;5;241m=\u001b[39m \u001b[38;5;124m\"\u001b[39m\u001b[38;5;124mAn entry with this name does not appear in `data`.\u001b[39m\u001b[38;5;124m\"\u001b[39m\n\u001b[0;32m--> 232\u001b[0m     \u001b[38;5;28;01mraise\u001b[39;00m \u001b[38;5;167;01mValueError\u001b[39;00m(err)\n\u001b[1;32m    234\u001b[0m \u001b[38;5;28;01melse\u001b[39;00m:\n\u001b[1;32m    235\u001b[0m \n\u001b[1;32m    236\u001b[0m     \u001b[38;5;66;03m# Otherwise, assume the value somehow represents data\u001b[39;00m\n\u001b[1;32m    237\u001b[0m \n\u001b[1;32m    238\u001b[0m     \u001b[38;5;66;03m# Ignore empty data structures\u001b[39;00m\n\u001b[1;32m    239\u001b[0m     \u001b[38;5;28;01mif\u001b[39;00m \u001b[38;5;28misinstance\u001b[39m(val, Sized) \u001b[38;5;129;01mand\u001b[39;00m \u001b[38;5;28mlen\u001b[39m(val) \u001b[38;5;241m==\u001b[39m \u001b[38;5;241m0\u001b[39m:\n",
      "\u001b[0;31mValueError\u001b[0m: Could not interpret value `Outcome` for `x`. An entry with this name does not appear in `data`."
     ]
    }
   ],
   "source": [
    "ax = sns.countplot(x='Outcome', data=df)\n",
    "ax.bar_label(ax.containers[0]);"
   ]
  },
  {
   "cell_type": "code",
   "execution_count": 7,
   "id": "2501b99b",
   "metadata": {},
   "outputs": [],
   "source": [
    "df = df[df.SkinThickness<70]\n",
    "df = df[df.Glucose>0]\n",
    "df = df[df.BloodPressure>35]\n",
    "df = df[df.BMI>0]"
   ]
  },
  {
   "cell_type": "code",
   "execution_count": 8,
   "id": "7a5b95e6",
   "metadata": {},
   "outputs": [
    {
     "data": {
      "text/plain": [
       "(720, 9)"
      ]
     },
     "execution_count": 8,
     "metadata": {},
     "output_type": "execute_result"
    }
   ],
   "source": [
    "df.shape"
   ]
  },
  {
   "cell_type": "code",
   "execution_count": 9,
   "id": "32f4314c",
   "metadata": {},
   "outputs": [
    {
     "data": {
      "text/plain": [
       "0    473\n",
       "1    247\n",
       "Name: Outcome, dtype: int64"
      ]
     },
     "execution_count": 9,
     "metadata": {},
     "output_type": "execute_result"
    }
   ],
   "source": [
    "df.Outcome.value_counts() "
   ]
  },
  {
   "cell_type": "code",
   "execution_count": 10,
   "id": "3b4b4bb0",
   "metadata": {},
   "outputs": [
    {
     "data": {
      "text/plain": [
       "1.9149797570850202"
      ]
     },
     "execution_count": 10,
     "metadata": {},
     "output_type": "execute_result"
    }
   ],
   "source": [
    "473/247  # ratio of number of the class zero to the class one"
   ]
  },
  {
   "cell_type": "code",
   "execution_count": 11,
   "id": "65ecc57f",
   "metadata": {},
   "outputs": [
    {
     "data": {
      "image/png": "[encoded data removed]",
      "text/plain": [
       "<Figure size 900x500 with 1 Axes>"
      ]
     },
     "metadata": {},
     "output_type": "display_data"
    }
   ],
   "source": [
    "plt.figure(figsize=(9,5))\n",
    "ax = df.corr()[\"Outcome\"].drop(\"Outcome\").sort_values().plot.barh()\n",
    "ax.bar_label(ax.containers[0], fmt='%.2f');"
   ]
  },
  {
   "attachments": {},
   "cell_type": "markdown",
   "id": "c70d0c8a",
   "metadata": {},
   "source": [
    "## Train | Test Split"
   ]
  },
  {
   "cell_type": "code",
   "execution_count": 11,
   "id": "04542b00",
   "metadata": {},
   "outputs": [],
   "source": [
    "from sklearn.model_selection import train_test_split"
   ]
  },
  {
   "cell_type": "code",
   "execution_count": 12,
   "id": "99d01328",
   "metadata": {},
   "outputs": [],
   "source": [
    "X = df.drop([\"Outcome\"], axis=1)\n",
    "y = df[\"Outcome\"]"
   ]
  },
  {
   "attachments": {},
   "cell_type": "markdown",
   "id": "81e3d6e5",
   "metadata": {},
   "source": [
    "### Split the Data into train, validation and test data"
   ]
  },
  {
   "cell_type": "code",
   "execution_count": 13,
   "id": "ac9b83b0",
   "metadata": {},
   "outputs": [],
   "source": [
    "# Split the data as train and test datasets\n",
    "X_train, X_test, y_train, y_test = train_test_split(X, y, test_size=0.1, stratify=y, random_state=42)\n",
    "\n",
    "# Split the train data as train and validation datasets\n",
    "X_train, X_validation, y_train, y_validation = train_test_split(X_train, y_train, test_size=0.2, stratify=y_train, random_state=42)"
   ]
  },
  {
   "cell_type": "code",
   "execution_count": 14,
   "id": "c6494702",
   "metadata": {},
   "outputs": [
    {
     "data": {
      "text/plain": [
       "((518, 8), (130, 8), (72, 8))"
      ]
     },
     "execution_count": 14,
     "metadata": {},
     "output_type": "execute_result"
    }
   ],
   "source": [
    "# checking the shapes of datasets\n",
    "X_train.shape, X_validation.shape, X_test.shape"
   ]
  },
  {
   "cell_type": "code",
   "execution_count": 15,
   "id": "dadd9844",
   "metadata": {},
   "outputs": [
    {
     "data": {
      "text/plain": [
       "((518,), (130,), (72,))"
      ]
     },
     "execution_count": 15,
     "metadata": {},
     "output_type": "execute_result"
    }
   ],
   "source": [
    "# checking the shapes of datasets\n",
    "y_train.shape, y_validation.shape, y_test.shape"
   ]
  },
  {
   "cell_type": "code",
   "execution_count": 16,
   "id": "6d0b42ee",
   "metadata": {},
   "outputs": [],
   "source": [
    "# In Sagemaker the first column in train and validation datasets should be the target column.\n",
    "# Concat target column with train and validation data as first column.\n",
    "# No need to add target column in test datasets as it will be used to test the model performance after training.\n",
    "\n",
    "train = pd.concat([pd.Series(y_train, index = X_train.index, name=\"Outcome\"), X_train], axis=1)\n",
    "validation = pd.concat([pd.Series(y_validation, index = X_validation.index, name=\"Outcome\"), X_validation], axis=1)"
   ]
  },
  {
   "cell_type": "code",
   "execution_count": 17,
   "id": "d16f34d2",
   "metadata": {},
   "outputs": [
    {
     "data": {
      "text/html": [
       "<div>\n",
       "<style scoped>\n",
       "    .dataframe tbody tr th:only-of-type {\n",
       "        vertical-align: middle;\n",
       "    }\n",
       "\n",
       "    .dataframe tbody tr th {\n",
       "        vertical-align: top;\n",
       "    }\n",
       "\n",
       "    .dataframe thead th {\n",
       "        text-align: right;\n",
       "    }\n",
       "</style>\n",
       "<table border=\"1\" class=\"dataframe\">\n",
       "  <thead>\n",
       "    <tr style=\"text-align: right;\">\n",
       "      <th></th>\n",
       "      <th>Outcome</th>\n",
       "      <th>Pregnancies</th>\n",
       "      <th>Glucose</th>\n",
       "      <th>BloodPressure</th>\n",
       "      <th>SkinThickness</th>\n",
       "      <th>Insulin</th>\n",
       "      <th>BMI</th>\n",
       "      <th>DiabetesPedigreeFunction</th>\n",
       "      <th>Age</th>\n",
       "    </tr>\n",
       "  </thead>\n",
       "  <tbody>\n",
       "    <tr>\n",
       "      <th>56</th>\n",
       "      <td>1</td>\n",
       "      <td>7</td>\n",
       "      <td>187</td>\n",
       "      <td>68</td>\n",
       "      <td>39</td>\n",
       "      <td>304</td>\n",
       "      <td>37.7</td>\n",
       "      <td>0.254</td>\n",
       "      <td>41</td>\n",
       "    </tr>\n",
       "    <tr>\n",
       "      <th>641</th>\n",
       "      <td>0</td>\n",
       "      <td>4</td>\n",
       "      <td>128</td>\n",
       "      <td>70</td>\n",
       "      <td>0</td>\n",
       "      <td>0</td>\n",
       "      <td>34.3</td>\n",
       "      <td>0.303</td>\n",
       "      <td>24</td>\n",
       "    </tr>\n",
       "    <tr>\n",
       "      <th>32</th>\n",
       "      <td>0</td>\n",
       "      <td>3</td>\n",
       "      <td>88</td>\n",
       "      <td>58</td>\n",
       "      <td>11</td>\n",
       "      <td>54</td>\n",
       "      <td>24.8</td>\n",
       "      <td>0.267</td>\n",
       "      <td>22</td>\n",
       "    </tr>\n",
       "    <tr>\n",
       "      <th>503</th>\n",
       "      <td>0</td>\n",
       "      <td>7</td>\n",
       "      <td>94</td>\n",
       "      <td>64</td>\n",
       "      <td>25</td>\n",
       "      <td>79</td>\n",
       "      <td>33.3</td>\n",
       "      <td>0.738</td>\n",
       "      <td>41</td>\n",
       "    </tr>\n",
       "    <tr>\n",
       "      <th>732</th>\n",
       "      <td>1</td>\n",
       "      <td>2</td>\n",
       "      <td>174</td>\n",
       "      <td>88</td>\n",
       "      <td>37</td>\n",
       "      <td>120</td>\n",
       "      <td>44.5</td>\n",
       "      <td>0.646</td>\n",
       "      <td>24</td>\n",
       "    </tr>\n",
       "  </tbody>\n",
       "</table>\n",
       "</div>"
      ],
      "text/plain": [
       "     Outcome  Pregnancies  Glucose  BloodPressure  SkinThickness  Insulin  \\\n",
       "56         1            7      187             68             39      304   \n",
       "641        0            4      128             70              0        0   \n",
       "32         0            3       88             58             11       54   \n",
       "503        0            7       94             64             25       79   \n",
       "732        1            2      174             88             37      120   \n",
       "\n",
       "      BMI  DiabetesPedigreeFunction  Age  \n",
       "56   37.7                     0.254   41  \n",
       "641  34.3                     0.303   24  \n",
       "32   24.8                     0.267   22  \n",
       "503  33.3                     0.738   41  \n",
       "732  44.5                     0.646   24  "
      ]
     },
     "execution_count": 17,
     "metadata": {},
     "output_type": "execute_result"
    }
   ],
   "source": [
    "# Checking the first 5 sample of train dataset\n",
    "train.head()"
   ]
  },
  {
   "cell_type": "code",
   "execution_count": 18,
   "id": "6a0f3818",
   "metadata": {},
   "outputs": [
    {
     "data": {
      "text/html": [
       "<div>\n",
       "<style scoped>\n",
       "    .dataframe tbody tr th:only-of-type {\n",
       "        vertical-align: middle;\n",
       "    }\n",
       "\n",
       "    .dataframe tbody tr th {\n",
       "        vertical-align: top;\n",
       "    }\n",
       "\n",
       "    .dataframe thead th {\n",
       "        text-align: right;\n",
       "    }\n",
       "</style>\n",
       "<table border=\"1\" class=\"dataframe\">\n",
       "  <thead>\n",
       "    <tr style=\"text-align: right;\">\n",
       "      <th></th>\n",
       "      <th>Outcome</th>\n",
       "      <th>Pregnancies</th>\n",
       "      <th>Glucose</th>\n",
       "      <th>BloodPressure</th>\n",
       "      <th>SkinThickness</th>\n",
       "      <th>Insulin</th>\n",
       "      <th>BMI</th>\n",
       "      <th>DiabetesPedigreeFunction</th>\n",
       "      <th>Age</th>\n",
       "    </tr>\n",
       "  </thead>\n",
       "  <tbody>\n",
       "    <tr>\n",
       "      <th>16</th>\n",
       "      <td>1</td>\n",
       "      <td>0</td>\n",
       "      <td>118</td>\n",
       "      <td>84</td>\n",
       "      <td>47</td>\n",
       "      <td>230</td>\n",
       "      <td>45.8</td>\n",
       "      <td>0.551</td>\n",
       "      <td>31</td>\n",
       "    </tr>\n",
       "    <tr>\n",
       "      <th>313</th>\n",
       "      <td>0</td>\n",
       "      <td>3</td>\n",
       "      <td>113</td>\n",
       "      <td>50</td>\n",
       "      <td>10</td>\n",
       "      <td>85</td>\n",
       "      <td>29.5</td>\n",
       "      <td>0.626</td>\n",
       "      <td>25</td>\n",
       "    </tr>\n",
       "    <tr>\n",
       "      <th>118</th>\n",
       "      <td>0</td>\n",
       "      <td>4</td>\n",
       "      <td>97</td>\n",
       "      <td>60</td>\n",
       "      <td>23</td>\n",
       "      <td>0</td>\n",
       "      <td>28.2</td>\n",
       "      <td>0.443</td>\n",
       "      <td>22</td>\n",
       "    </tr>\n",
       "    <tr>\n",
       "      <th>584</th>\n",
       "      <td>1</td>\n",
       "      <td>8</td>\n",
       "      <td>124</td>\n",
       "      <td>76</td>\n",
       "      <td>24</td>\n",
       "      <td>600</td>\n",
       "      <td>28.7</td>\n",
       "      <td>0.687</td>\n",
       "      <td>52</td>\n",
       "    </tr>\n",
       "    <tr>\n",
       "      <th>614</th>\n",
       "      <td>1</td>\n",
       "      <td>11</td>\n",
       "      <td>138</td>\n",
       "      <td>74</td>\n",
       "      <td>26</td>\n",
       "      <td>144</td>\n",
       "      <td>36.1</td>\n",
       "      <td>0.557</td>\n",
       "      <td>50</td>\n",
       "    </tr>\n",
       "  </tbody>\n",
       "</table>\n",
       "</div>"
      ],
      "text/plain": [
       "     Outcome  Pregnancies  Glucose  BloodPressure  SkinThickness  Insulin  \\\n",
       "16         1            0      118             84             47      230   \n",
       "313        0            3      113             50             10       85   \n",
       "118        0            4       97             60             23        0   \n",
       "584        1            8      124             76             24      600   \n",
       "614        1           11      138             74             26      144   \n",
       "\n",
       "      BMI  DiabetesPedigreeFunction  Age  \n",
       "16   45.8                     0.551   31  \n",
       "313  29.5                     0.626   25  \n",
       "118  28.2                     0.443   22  \n",
       "584  28.7                     0.687   52  \n",
       "614  36.1                     0.557   50  "
      ]
     },
     "execution_count": 18,
     "metadata": {},
     "output_type": "execute_result"
    }
   ],
   "source": [
    "# Checking the first 5 sample of validation dataset\n",
    "validation.head()"
   ]
  },
  {
   "cell_type": "code",
   "execution_count": 19,
   "id": "7bfa5a23",
   "metadata": {},
   "outputs": [
    {
     "data": {
      "text/plain": [
       "((518, 9), (130, 9))"
      ]
     },
     "execution_count": 19,
     "metadata": {},
     "output_type": "execute_result"
    }
   ],
   "source": [
    "# checking the shapes of datasets\n",
    "train.shape, validation.shape"
   ]
  },
  {
   "cell_type": "code",
   "execution_count": 20,
   "id": "298d53df",
   "metadata": {},
   "outputs": [],
   "source": [
    "# Save the train and validation datasets as csv file in order to load them into AWS S3 bucket.\n",
    "# Where did we save these csv files?\n",
    "\n",
    "train.to_csv('train.csv', index=False, header=False)\n",
    "validation.to_csv('validation.csv', index=False, header=False)"
   ]
  },
  {
   "attachments": {},
   "cell_type": "markdown",
   "id": "fcd29e8b",
   "metadata": {},
   "source": [
    "### Saving train and validation csv files into S3 bucket"
   ]
  },
  {
   "attachments": {},
   "cell_type": "markdown",
   "id": "ca98a53c",
   "metadata": {},
   "source": [
    "https://github.com/aws/sagemaker-python-sdk"
   ]
  },
  {
   "cell_type": "code",
   "execution_count": 21,
   "id": "bf7fbd48",
   "metadata": {},
   "outputs": [],
   "source": [
    "# Import sagemaker and boto3 libraries.\n",
    "# SageMaker Python SDK is an open source library for training and deploying machine learning models on Amazon SageMaker using Python scripts.\n",
    "# Boto3 is the name of the Python SDK for AWS.\n",
    "# It allows you to directly create, update, and delete AWS resources from your Python scripts.\n",
    "\n",
    "import sagemaker, boto3"
   ]
  },
  {
   "cell_type": "code",
   "execution_count": 24,
   "id": "87b3444f",
   "metadata": {},
   "outputs": [],
   "source": [
    "bucket = 'hillary-test'  # S3 bucket name that we have already created in AWS. You can copy it from AWS S3 service and paste here.\n",
    "prefix = 'sagemaker-diabetes'  # Folder name that we will create for saving our datasets."
   ]
  },
  {
   "cell_type": "code",
   "execution_count": 25,
   "id": "794d6797",
   "metadata": {},
   "outputs": [],
   "source": [
    "# Loading train and validation datasets into S3 bucket.\n",
    "boto3.Session().resource('s3').Bucket(bucket).Object(prefix + '/data/train.csv').upload_file('train.csv')\n",
    "boto3.Session().resource('s3').Bucket(bucket).Object(prefix + '/data/validation.csv').upload_file('validation.csv')"
   ]
  },
  {
   "cell_type": "code",
   "execution_count": 26,
   "id": "971ab6ce",
   "metadata": {},
   "outputs": [
    {
     "name": "stdout",
     "output_type": "stream",
     "text": [
      "2023-03-28 08:21:45      15758 sagemaker-diabetes/data/train.csv\r\n",
      "2023-03-28 08:21:45       3942 sagemaker-diabetes/data/validation.csv\r\n"
     ]
    }
   ],
   "source": [
    "# Checking the datasets in AWS S3 bucket by listing\n",
    "# We can check them also from AWS S3 console.\n",
    "\n",
    "! aws s3 ls {bucket}/{prefix}/data --recursive"
   ]
  },
  {
   "attachments": {},
   "cell_type": "markdown",
   "id": "a07074d7",
   "metadata": {},
   "source": [
    "## Built and Train the Model"
   ]
  },
  {
   "cell_type": "code",
   "execution_count": 26,
   "id": "2ce100f6",
   "metadata": {},
   "outputs": [],
   "source": [
    "# %pip instasll --upgrade boto3  # if the following code raise an error, run this before then restart the kernel."
   ]
  },
  {
   "cell_type": "code",
   "execution_count": 27,
   "id": "80aa13cc",
   "metadata": {},
   "outputs": [
    {
     "name": "stdout",
     "output_type": "stream",
     "text": [
      "AWS Region: us-east-1\n",
      "RoleArn:arn:aws:iam::046402772087:role/service-role/AmazonSageMaker-ExecutionRole-20230307T112272\n"
     ]
    }
   ],
   "source": [
    "# Defining the region and role variables which will be used for the connection to the AWS. \n",
    "region = sagemaker.Session().boto_region_name  # region = boto3.Session().region_name\n",
    "print(\"AWS Region: {}\".format(region))\n",
    "\n",
    "role = sagemaker.get_execution_role()\n",
    "print(\"RoleArn:{}\".format(role))"
   ]
  },
  {
   "cell_type": "code",
   "execution_count": 28,
   "id": "760e8072",
   "metadata": {},
   "outputs": [
    {
     "data": {
      "text/plain": [
       "'s3://hillary-test/sagemaker-diabetes/output'"
      ]
     },
     "execution_count": 28,
     "metadata": {},
     "output_type": "execute_result"
    }
   ],
   "source": [
    "# Defining output path in which outputs will be loaded during model training.\n",
    "\n",
    "s3_output_location = 's3://{}/{}/{}'.format(bucket, prefix, 'output') \n",
    "s3_output_location"
   ]
  },
  {
   "cell_type": "code",
   "execution_count": 29,
   "id": "7e223ac0",
   "metadata": {},
   "outputs": [
    {
     "name": "stdout",
     "output_type": "stream",
     "text": [
      "811284229777.dkr.ecr.us-east-1.amazonaws.com/xgboost:latest\n"
     ]
    }
   ],
   "source": [
    "# Defining built-in algorithm name and version which we will use for model creation.\n",
    "container = sagemaker.image_uris.retrieve(\"xgboost\", region, version=\"latest\")\n",
    "print(container)"
   ]
  },
  {
   "cell_type": "code",
   "execution_count": 83,
   "id": "728df8af",
   "metadata": {},
   "outputs": [],
   "source": [
    "# for a specific version i.e. xgboost version 1.2-2\n",
    "# container = sagemaker.image_uris.retrieve(\"xgboost\", region, version=\"1.2-2\")\n",
    "# print(container)"
   ]
  },
  {
   "cell_type": "code",
   "execution_count": 30,
   "id": "5c49331e",
   "metadata": {},
   "outputs": [],
   "source": [
    "# Model creation using sagemaker estimator function\n",
    "\n",
    "xgb_model = sagemaker.estimator.Estimator(container,  # model algorithm\n",
    "                                          role,  # role to connect AWS\n",
    "                                          base_job_name=\"hillary-xgboost-test\",  # training job name (if it is none, sagemaker gives a name automatically)\n",
    "                                          instance_count=1,  # the number of EC2 that will be used for training\n",
    "                                          instance_type='ml.m4.xlarge', # type of EC2\n",
    "                                          volume_size = 1,  # EC2 EBS volume size\n",
    "                                          output_path = s3_output_location,  # output path in which training outputs will be saved\n",
    "                                          sagemaker_session=sagemaker.Session(),  # sagemaker session for training job\n",
    "                                          )"
   ]
  },
  {
   "cell_type": "code",
   "execution_count": 31,
   "id": "accfd5c7",
   "metadata": {},
   "outputs": [],
   "source": [
    "# Setting the model hyperparameters\n",
    "xgb_model.set_hyperparameters(max_depth=2,\n",
    "                              eta=0.2,\n",
    "                              scale_pos_weight= 1.9149797570850202,  # it is the ratio of number of the class zero to the class one\n",
    "                              num_round=100,\n",
    "                              objective = 'binary:logistic',  # objective = \"reg:logistic\"\n",
    "                              early_stopping_rounds=10)"
   ]
  },
  {
   "cell_type": "code",
   "execution_count": 32,
   "id": "2f1c2882",
   "metadata": {},
   "outputs": [],
   "source": [
    "# Import training input method which will be used to prepare train and validation data before model training\n",
    "from sagemaker.session import TrainingInput\n",
    "\n",
    "# Preparing train and validation data for model training \n",
    "train_input = TrainingInput('s3://{}/{}/{}'.format(bucket, prefix, 'data/train.csv'), content_type='csv')\n",
    "validation_input = TrainingInput('s3://{}/{}/{}'.format(bucket, prefix, 'data/validation.csv'), content_type='csv')"
   ]
  },
  {
   "cell_type": "code",
   "execution_count": 33,
   "id": "ce91bb5e",
   "metadata": {},
   "outputs": [],
   "source": [
    "# Convert the data we prepared into dictionary format for model training\n",
    "data_channels = {'train': train_input, 'validation': validation_input}"
   ]
  },
  {
   "cell_type": "code",
   "execution_count": 34,
   "id": "51c93da7",
   "metadata": {},
   "outputs": [
    {
     "name": "stderr",
     "output_type": "stream",
     "text": [
      "INFO:sagemaker:Creating training-job with name: hillary-xgboost-test-2023-03-28-08-26-34-415\n"
     ]
    },
    {
     "name": "stdout",
     "output_type": "stream",
     "text": [
      "2023-03-28 08:26:34 Starting - Starting the training job...\n",
      "2023-03-28 08:27:00 Starting - Preparing the instances for training.........\n",
      "2023-03-28 08:28:20 Downloading - Downloading input data...\n",
      "2023-03-28 08:28:45 Training - Downloading the training image...\n",
      "2023-03-28 08:29:21 Training - Training image download completed. Training in progress..\u001b[34mArguments: train\u001b[0m\n",
      "\u001b[34m[2023-03-28:08:29:35:INFO] Running standalone xgboost training.\u001b[0m\n",
      "\u001b[34m[2023-03-28:08:29:35:INFO] File size need to be processed in the node: 0.02mb. Available memory size in the node: 8600.49mb\u001b[0m\n",
      "\u001b[34m[2023-03-28:08:29:35:INFO] Determined delimiter of CSV input is ','\u001b[0m\n",
      "\u001b[34m[08:29:35] S3DistributionType set as FullyReplicated\u001b[0m\n",
      "\u001b[34m[08:29:35] 518x8 matrix with 4144 entries loaded from /opt/ml/input/data/train?format=csv&label_column=0&delimiter=,\u001b[0m\n",
      "\u001b[34m[2023-03-28:08:29:35:INFO] Determined delimiter of CSV input is ','\u001b[0m\n",
      "\u001b[34m[08:29:35] S3DistributionType set as FullyReplicated\u001b[0m\n",
      "\u001b[34m[08:29:35] 130x8 matrix with 1040 entries loaded from /opt/ml/input/data/validation?format=csv&label_column=0&delimiter=,\u001b[0m\n",
      "\u001b[34m[08:29:35] src/tree/updater_prune.cc:74: tree pruning end, 1 roots, 6 extra nodes, 0 pruned nodes, max_depth=2\u001b[0m\n",
      "\u001b[34m[0]#011train-error:0.223938#011validation-error:0.246154\u001b[0m\n",
      "\u001b[34mMultiple eval metrics have been passed: 'validation-error' will be used for early stopping.\u001b[0m\n",
      "\u001b[34mWill train until validation-error hasn't improved in 10 rounds.\u001b[0m\n",
      "\u001b[34m[08:29:35] src/tree/updater_prune.cc:74: tree pruning end, 1 roots, 6 extra nodes, 0 pruned nodes, max_depth=2\u001b[0m\n",
      "\u001b[34m[1]#011train-error:0.225869#011validation-error:0.246154\u001b[0m\n",
      "\u001b[34m[08:29:35] src/tree/updater_prune.cc:74: tree pruning end, 1 roots, 6 extra nodes, 0 pruned nodes, max_depth=2\u001b[0m\n",
      "\u001b[34m[2]#011train-error:0.225869#011validation-error:0.246154\u001b[0m\n",
      "\u001b[34m[08:29:35] src/tree/updater_prune.cc:74: tree pruning end, 1 roots, 6 extra nodes, 0 pruned nodes, max_depth=2\u001b[0m\n",
      "\u001b[34m[3]#011train-error:0.208494#011validation-error:0.246154\u001b[0m\n",
      "\u001b[34m[08:29:35] src/tree/updater_prune.cc:74: tree pruning end, 1 roots, 6 extra nodes, 0 pruned nodes, max_depth=2\u001b[0m\n",
      "\u001b[34m[4]#011train-error:0.206564#011validation-error:0.253846\u001b[0m\n",
      "\u001b[34m[08:29:35] src/tree/updater_prune.cc:74: tree pruning end, 1 roots, 6 extra nodes, 0 pruned nodes, max_depth=2\u001b[0m\n",
      "\u001b[34m[5]#011train-error:0.204633#011validation-error:0.253846\u001b[0m\n",
      "\u001b[34m[08:29:35] src/tree/updater_prune.cc:74: tree pruning end, 1 roots, 6 extra nodes, 0 pruned nodes, max_depth=2\u001b[0m\n",
      "\u001b[34m[6]#011train-error:0.204633#011validation-error:0.246154\u001b[0m\n",
      "\u001b[34m[08:29:35] src/tree/updater_prune.cc:74: tree pruning end, 1 roots, 6 extra nodes, 0 pruned nodes, max_depth=2\u001b[0m\n",
      "\u001b[34m[7]#011train-error:0.202703#011validation-error:0.223077\u001b[0m\n",
      "\u001b[34m[08:29:35] src/tree/updater_prune.cc:74: tree pruning end, 1 roots, 6 extra nodes, 0 pruned nodes, max_depth=2\u001b[0m\n",
      "\u001b[34m[8]#011train-error:0.194981#011validation-error:0.223077\u001b[0m\n",
      "\u001b[34m[08:29:35] src/tree/updater_prune.cc:74: tree pruning end, 1 roots, 6 extra nodes, 0 pruned nodes, max_depth=2\u001b[0m\n",
      "\u001b[34m[9]#011train-error:0.194981#011validation-error:0.223077\u001b[0m\n",
      "\u001b[34m[08:29:35] src/tree/updater_prune.cc:74: tree pruning end, 1 roots, 6 extra nodes, 0 pruned nodes, max_depth=2\u001b[0m\n",
      "\u001b[34m[10]#011train-error:0.198842#011validation-error:0.230769\u001b[0m\n",
      "\u001b[34m[08:29:35] src/tree/updater_prune.cc:74: tree pruning end, 1 roots, 6 extra nodes, 0 pruned nodes, max_depth=2\u001b[0m\n",
      "\u001b[34m[11]#011train-error:0.198842#011validation-error:0.230769\u001b[0m\n",
      "\u001b[34m[08:29:35] src/tree/updater_prune.cc:74: tree pruning end, 1 roots, 6 extra nodes, 0 pruned nodes, max_depth=2\u001b[0m\n",
      "\u001b[34m[12]#011train-error:0.198842#011validation-error:0.230769\u001b[0m\n",
      "\u001b[34m[08:29:35] src/tree/updater_prune.cc:74: tree pruning end, 1 roots, 6 extra nodes, 0 pruned nodes, max_depth=2\u001b[0m\n",
      "\u001b[34m[13]#011train-error:0.196911#011validation-error:0.223077\u001b[0m\n",
      "\u001b[34m[08:29:35] src/tree/updater_prune.cc:74: tree pruning end, 1 roots, 6 extra nodes, 0 pruned nodes, max_depth=2\u001b[0m\n",
      "\u001b[34m[14]#011train-error:0.187259#011validation-error:0.215385\u001b[0m\n",
      "\u001b[34m[08:29:35] src/tree/updater_prune.cc:74: tree pruning end, 1 roots, 6 extra nodes, 0 pruned nodes, max_depth=2\u001b[0m\n",
      "\u001b[34m[15]#011train-error:0.196911#011validation-error:0.223077\u001b[0m\n",
      "\u001b[34m[08:29:35] src/tree/updater_prune.cc:74: tree pruning end, 1 roots, 6 extra nodes, 0 pruned nodes, max_depth=2\u001b[0m\n",
      "\u001b[34m[16]#011train-error:0.189189#011validation-error:0.223077\u001b[0m\n",
      "\u001b[34m[08:29:35] src/tree/updater_prune.cc:74: tree pruning end, 1 roots, 6 extra nodes, 0 pruned nodes, max_depth=2\u001b[0m\n",
      "\u001b[34m[17]#011train-error:0.19112#011validation-error:0.230769\u001b[0m\n",
      "\u001b[34m[08:29:35] src/tree/updater_prune.cc:74: tree pruning end, 1 roots, 6 extra nodes, 0 pruned nodes, max_depth=2\u001b[0m\n",
      "\u001b[34m[18]#011train-error:0.19112#011validation-error:0.223077\u001b[0m\n",
      "\u001b[34m[08:29:35] src/tree/updater_prune.cc:74: tree pruning end, 1 roots, 6 extra nodes, 0 pruned nodes, max_depth=2\u001b[0m\n",
      "\u001b[34m[19]#011train-error:0.189189#011validation-error:0.223077\u001b[0m\n",
      "\u001b[34m[08:29:35] src/tree/updater_prune.cc:74: tree pruning end, 1 roots, 6 extra nodes, 0 pruned nodes, max_depth=2\u001b[0m\n",
      "\u001b[34m[20]#011train-error:0.19112#011validation-error:0.230769\u001b[0m\n",
      "\u001b[34m[21]#011train-error:0.19112#011validation-error:0.230769\u001b[0m\n",
      "\u001b[34m[08:29:35] src/tree/updater_prune.cc:74: tree pruning end, 1 roots, 6 extra nodes, 0 pruned nodes, max_depth=2\u001b[0m\n",
      "\u001b[34m[08:29:35] src/tree/updater_prune.cc:74: tree pruning end, 1 roots, 6 extra nodes, 0 pruned nodes, max_depth=2\u001b[0m\n",
      "\u001b[34m[22]#011train-error:0.183398#011validation-error:0.230769\u001b[0m\n",
      "\u001b[34m[08:29:35] src/tree/updater_prune.cc:74: tree pruning end, 1 roots, 6 extra nodes, 0 pruned nodes, max_depth=2\u001b[0m\n",
      "\u001b[34m[23]#011train-error:0.181467#011validation-error:0.223077\u001b[0m\n",
      "\u001b[34m[08:29:35] src/tree/updater_prune.cc:74: tree pruning end, 1 roots, 4 extra nodes, 0 pruned nodes, max_depth=2\u001b[0m\n",
      "\u001b[34m[24]#011train-error:0.179537#011validation-error:0.223077\u001b[0m\n",
      "\u001b[34mStopping. Best iteration:\u001b[0m\n",
      "\u001b[34m[14]#011train-error:0.187259#011validation-error:0.215385\u001b[0m\n",
      "\n",
      "2023-03-28 08:29:52 Uploading - Uploading generated training model\n",
      "2023-03-28 08:29:52 Completed - Training job completed\n",
      "Training seconds: 92\n",
      "Billable seconds: 92\n"
     ]
    }
   ],
   "source": [
    "# Model training with data_channels. At this step training jobs will be created.\n",
    "xgb_model.fit(data_channels)\n",
    "\n",
    "# Let's check whether training job is created or not from AWS console.\n",
    "\n",
    "# Let's check whether the output(model.tar.gz) occurs when training job is completed."
   ]
  },
  {
   "attachments": {},
   "cell_type": "markdown",
   "id": "6f85e25c",
   "metadata": {},
   "source": [
    "## Create Endpoint"
   ]
  },
  {
   "cell_type": "code",
   "execution_count": 35,
   "id": "10259ff9",
   "metadata": {},
   "outputs": [
    {
     "name": "stderr",
     "output_type": "stream",
     "text": [
      "INFO:sagemaker:Creating model with name: hillary-xgboost-test-2023-03-28-08-34-55-639\n",
      "INFO:sagemaker:Creating endpoint-config with name hillary-xgboost-test-2023-03-28-08-34-55-639\n",
      "INFO:sagemaker:Creating endpoint with name hillary-xgboost-test-2023-03-28-08-34-55-639\n"
     ]
    },
    {
     "name": "stdout",
     "output_type": "stream",
     "text": [
      "------!"
     ]
    }
   ],
   "source": [
    "# CSVSerializer : Serialize data of various formats to a CSV-formatted string\n",
    "\n",
    "from sagemaker.serializers import CSVSerializer\n",
    "\n",
    "# Deploy the trained model into an endpoint\n",
    "# At this step an endpoint will be created\n",
    "predictor = xgb_model.deploy(initial_instance_count=1,  # the number of EC2 for endpoint\n",
    "                            instance_type='ml.m5.xlarge',  # type of EC2\n",
    "                            serializer = CSVSerializer())  # data format for prediction\n",
    "\n",
    "# Let's check whether endpoint is created."
   ]
  },
  {
   "cell_type": "code",
   "execution_count": 36,
   "id": "f77c1c23",
   "metadata": {},
   "outputs": [
    {
     "data": {
      "text/plain": [
       "'hillary-xgboost-test-2023-03-28-08-34-55-639'"
      ]
     },
     "execution_count": 36,
     "metadata": {},
     "output_type": "execute_result"
    }
   ],
   "source": [
    "# The name of the  endpoint we created\n",
    "\n",
    "endpoint_name = predictor.endpoint_name  # alternatively we can define endpoint name manually: endpoint_name = 'sagemaker-xgboost-2023-01-04-04-05-36-670'\n",
    "endpoint_name"
   ]
  },
  {
   "attachments": {},
   "cell_type": "markdown",
   "id": "8ad4d764",
   "metadata": {},
   "source": [
    "# Prediction using Endpoint Name"
   ]
  },
  {
   "cell_type": "code",
   "execution_count": 37,
   "id": "020bc149",
   "metadata": {},
   "outputs": [
    {
     "data": {
      "text/html": [
       "<div>\n",
       "<style scoped>\n",
       "    .dataframe tbody tr th:only-of-type {\n",
       "        vertical-align: middle;\n",
       "    }\n",
       "\n",
       "    .dataframe tbody tr th {\n",
       "        vertical-align: top;\n",
       "    }\n",
       "\n",
       "    .dataframe thead th {\n",
       "        text-align: right;\n",
       "    }\n",
       "</style>\n",
       "<table border=\"1\" class=\"dataframe\">\n",
       "  <thead>\n",
       "    <tr style=\"text-align: right;\">\n",
       "      <th></th>\n",
       "      <th>Pregnancies</th>\n",
       "      <th>Glucose</th>\n",
       "      <th>BloodPressure</th>\n",
       "      <th>SkinThickness</th>\n",
       "      <th>Insulin</th>\n",
       "      <th>BMI</th>\n",
       "      <th>DiabetesPedigreeFunction</th>\n",
       "      <th>Age</th>\n",
       "    </tr>\n",
       "  </thead>\n",
       "  <tbody>\n",
       "    <tr>\n",
       "      <th>198</th>\n",
       "      <td>4</td>\n",
       "      <td>109</td>\n",
       "      <td>64</td>\n",
       "      <td>44</td>\n",
       "      <td>99</td>\n",
       "      <td>34.8</td>\n",
       "      <td>0.905</td>\n",
       "      <td>26</td>\n",
       "    </tr>\n",
       "    <tr>\n",
       "      <th>598</th>\n",
       "      <td>1</td>\n",
       "      <td>173</td>\n",
       "      <td>74</td>\n",
       "      <td>0</td>\n",
       "      <td>0</td>\n",
       "      <td>36.8</td>\n",
       "      <td>0.088</td>\n",
       "      <td>38</td>\n",
       "    </tr>\n",
       "    <tr>\n",
       "      <th>102</th>\n",
       "      <td>0</td>\n",
       "      <td>125</td>\n",
       "      <td>96</td>\n",
       "      <td>0</td>\n",
       "      <td>0</td>\n",
       "      <td>22.5</td>\n",
       "      <td>0.262</td>\n",
       "      <td>21</td>\n",
       "    </tr>\n",
       "    <tr>\n",
       "      <th>226</th>\n",
       "      <td>0</td>\n",
       "      <td>101</td>\n",
       "      <td>76</td>\n",
       "      <td>0</td>\n",
       "      <td>0</td>\n",
       "      <td>35.7</td>\n",
       "      <td>0.198</td>\n",
       "      <td>26</td>\n",
       "    </tr>\n",
       "    <tr>\n",
       "      <th>585</th>\n",
       "      <td>1</td>\n",
       "      <td>93</td>\n",
       "      <td>56</td>\n",
       "      <td>11</td>\n",
       "      <td>0</td>\n",
       "      <td>22.5</td>\n",
       "      <td>0.417</td>\n",
       "      <td>22</td>\n",
       "    </tr>\n",
       "  </tbody>\n",
       "</table>\n",
       "</div>"
      ],
      "text/plain": [
       "     Pregnancies  Glucose  BloodPressure  SkinThickness  Insulin   BMI  \\\n",
       "198            4      109             64             44       99  34.8   \n",
       "598            1      173             74              0        0  36.8   \n",
       "102            0      125             96              0        0  22.5   \n",
       "226            0      101             76              0        0  35.7   \n",
       "585            1       93             56             11        0  22.5   \n",
       "\n",
       "     DiabetesPedigreeFunction  Age  \n",
       "198                     0.905   26  \n",
       "598                     0.088   38  \n",
       "102                     0.262   21  \n",
       "226                     0.198   26  \n",
       "585                     0.417   22  "
      ]
     },
     "execution_count": 37,
     "metadata": {},
     "output_type": "execute_result"
    }
   ],
   "source": [
    "X_test.head()"
   ]
  },
  {
   "cell_type": "code",
   "execution_count": 38,
   "id": "7b18aff9",
   "metadata": {},
   "outputs": [],
   "source": [
    "# Saving test data as csv file for prediction\n",
    "X_test.to_csv('test.csv', index=False, header=False)  # without target variable"
   ]
  },
  {
   "cell_type": "code",
   "execution_count": 39,
   "id": "be95adab",
   "metadata": {},
   "outputs": [],
   "source": [
    "# Reading and preparing the test data as payload for prediction\n",
    "with open('test.csv', 'r') as f:\n",
    "    payload = f.read().strip('\\n')"
   ]
  },
  {
   "cell_type": "code",
   "execution_count": 40,
   "id": "0ee972c4",
   "metadata": {},
   "outputs": [
    {
     "data": {
      "text/plain": [
       "'4,109,64,44,99,34.8,0.905,26\\n1,173,74,0,0,36.8,0.088,38\\n0,125,96,0,0,22.5,0.262,21\\n0,101,76,0,0,35.7,0.198,26\\n1,93,56,11,0,22.5,0.417,22\\n2,108,80,0,0,27.0,0.259,52\\n2,108,64,0,0,30.8,0.158,21\\n6,125,78,31,0,27.6,0.565,49\\n1,157,72,21,168,25.6,0.123,24\\n1,83,68,0,0,18.2,0.624,27\\n1,124,60,32,0,35.8,0.514,21\\n13,158,114,0,0,42.3,0.257,44\\n4,134,72,0,0,23.8,0.277,60\\n2,100,66,20,90,32.9,0.867,28\\n4,123,80,15,176,32.0,0.443,34\\n4,84,90,23,56,39.5,0.159,25\\n9,72,78,25,0,31.6,0.28,38\\n4,83,86,19,0,29.3,0.317,34\\n8,154,78,32,0,32.4,0.443,45\\n10,179,70,0,0,35.1,0.2,37\\n4,115,72,0,0,28.9,0.376,46\\n2,95,54,14,88,26.1,0.748,22\\n2,114,68,22,0,28.7,0.092,25\\n11,85,74,0,0,30.1,0.3,35\\n2,112,75,32,0,35.7,0.148,21\\n8,143,66,0,0,34.9,0.129,41\\n0,139,62,17,210,22.1,0.207,21\\n1,90,68,8,0,24.5,1.138,36\\n4,110,66,0,0,31.9,0.471,29\\n2,100,64,23,0,29.7,0.368,21\\n13,106,70,0,0,34.2,0.251,52\\n7,181,84,21,192,35.9,0.586,51\\n3,187,70,22,200,36.4,0.408,36\\n0,126,84,29,215,30.7,0.52,24\\n11,155,76,28,150,33.3,1.353,51\\n2,83,65,28,66,36.8,0.629,24\\n6,80,80,36,0,39.8,0.177,28\\n8,118,72,19,0,23.1,1.476,46\\n10,133,68,0,0,27.0,0.245,36\\n10,101,76,48,180,32.9,0.171,63\\n7,107,74,0,0,29.6,0.254,31\\n6,98,58,33,190,34.0,0.43,43\\n2,71,70,27,0,28.0,0.586,22\\n1,102,74,0,0,39.5,0.293,42\\n4,96,56,17,49,20.8,0.34,26\\n7,142,90,24,480,30.4,0.128,43\\n7,160,54,32,175,30.5,0.588,39\\n10,90,85,32,0,34.9,0.825,56\\n6,154,78,41,140,46.1,0.571,27\\n1,107,68,19,0,26.5,0.165,24\\n2,106,64,35,119,30.5,1.4,34\\n5,111,72,28,0,23.9,0.407,27\\n3,191,68,15,130,30.9,0.299,34\\n1,119,86,39,220,45.6,0.808,29\\n4,171,72,0,0,43.6,0.479,26\\n8,74,70,40,49,35.3,0.705,39\\n3,81,86,16,66,27.5,0.306,22\\n7,103,66,32,0,39.1,0.344,31\\n2,92,62,28,0,31.6,0.13,24\\n3,102,44,20,94,30.8,0.4,26\\n1,93,70,31,0,30.4,0.315,23\\n11,103,68,40,0,46.2,0.126,42\\n2,107,74,30,100,33.6,0.404,23\\n1,199,76,43,0,42.9,1.394,22\\n6,85,78,0,0,31.2,0.382,42\\n2,155,52,27,540,38.7,0.24,25\\n1,97,64,19,82,18.2,0.299,21\\n13,76,60,0,0,32.8,0.18,41\\n1,146,56,0,0,29.7,0.564,29\\n9,122,56,0,0,33.3,1.114,33\\n2,83,66,23,50,32.2,0.497,22\\n7,114,64,0,0,27.4,0.732,34'"
      ]
     },
     "execution_count": 40,
     "metadata": {},
     "output_type": "execute_result"
    }
   ],
   "source": [
    "# checking the content of payload\n",
    "payload"
   ]
  },
  {
   "cell_type": "code",
   "execution_count": 41,
   "id": "1269a5af",
   "metadata": {},
   "outputs": [
    {
     "name": "stderr",
     "output_type": "stream",
     "text": [
      "INFO:botocore.credentials:Found credentials from IAM Role: BaseNotebookInstanceEc2InstanceRole\n"
     ]
    }
   ],
   "source": [
    "# Create sagemaker runtime object to send request to endpoint and get response\n",
    "\n",
    "sagemaker_runtime = boto3.client(\"sagemaker-runtime\", region_name=boto3.Session().region_name)\n",
    "\n",
    "# Invoke endpoint to get prediction results\n",
    "response = sagemaker_runtime.invoke_endpoint(  \n",
    "                            EndpointName=endpoint_name,  # endpoint name we created (should be unique)\n",
    "                            Body=payload, # prediction data\n",
    "                            ContentType = 'text/csv')  # type of data\n",
    "\n",
    "# Optional - to see prediction result\n",
    "# print(response['Body'].read().decode('utf-8'))"
   ]
  },
  {
   "cell_type": "code",
   "execution_count": 42,
   "id": "25917ae8",
   "metadata": {},
   "outputs": [
    {
     "data": {
      "text/plain": [
       "{'ResponseMetadata': {'RequestId': 'd203b587-c8c3-410a-974b-17a5e31edaff',\n",
       "  'HTTPStatusCode': 200,\n",
       "  'HTTPHeaders': {'x-amzn-requestid': 'd203b587-c8c3-410a-974b-17a5e31edaff',\n",
       "   'x-amzn-invoked-production-variant': 'AllTraffic',\n",
       "   'date': 'Tue, 28 Mar 2023 08:42:53 GMT',\n",
       "   'content-type': 'text/csv; charset=utf-8',\n",
       "   'content-length': '1393'},\n",
       "  'RetryAttempts': 0},\n",
       " 'ContentType': 'text/csv; charset=utf-8',\n",
       " 'InvokedProductionVariant': 'AllTraffic',\n",
       " 'Body': <botocore.response.StreamingBody at 0x7f28791c0400>}"
      ]
     },
     "execution_count": 42,
     "metadata": {},
     "output_type": "execute_result"
    }
   ],
   "source": [
    "# The prediction result is in json format and \"Body\" key contains the prediction values.\n",
    "response"
   ]
  },
  {
   "cell_type": "code",
   "execution_count": 43,
   "id": "dd6b25c8",
   "metadata": {},
   "outputs": [
    {
     "data": {
      "text/plain": [
       "'0.3873826861381531,0.8133384585380554,0.11451607197523117,0.15497027337551117,0.06449843943119049,0.2610611915588379,0.2995612323284149,0.5149786472320557,0.5817204713821411,0.06449843943119049,0.4646185040473938,0.8526740074157715,0.22952598333358765,0.18755793571472168,0.6740153431892395,0.15497027337551117,0.3418002724647522,0.29272186756134033,0.751653790473938,0.8304170966148376,0.5172712802886963,0.06449843943119049,0.2591714859008789,0.43561118841171265,0.2995612323284149,0.6726301312446594,0.14202702045440674,0.10040055215358734,0.48345714807510376,0.17069615423679352,0.5477213859558105,0.8809031248092651,0.8683291077613831,0.4646185040473938,0.8777631521224976,0.18755793571472168,0.15497027337551117,0.3063046336174011,0.35644543170928955,0.5970978140830994,0.4685020446777344,0.5415210723876953,0.18755793571472168,0.3992386758327484,0.07767873257398605,0.6776959300041199,0.8809031248092651,0.3948822319507599,0.7220278382301331,0.17889441549777985,0.5938748121261597,0.15874794125556946,0.8488214015960693,0.5879572033882141,0.8633641004562378,0.3948822319507599,0.12243346124887466,0.5224418640136719,0.15497027337551117,0.30310457944869995,0.15497027337551117,0.5247613787651062,0.36052829027175903,0.8763446807861328,0.29272186756134033,0.7242174744606018,0.05787356197834015,0.4078899323940277,0.5661706328392029,0.67378830909729,0.17069615423679352,0.4793757200241089'"
      ]
     },
     "execution_count": 43,
     "metadata": {},
     "output_type": "execute_result"
    }
   ],
   "source": [
    "# prediction results\n",
    "results = response['Body'].read().decode('utf-8')\n",
    "results"
   ]
  },
  {
   "cell_type": "code",
   "execution_count": 44,
   "id": "b4f7b5dd",
   "metadata": {},
   "outputs": [
    {
     "data": {
      "text/plain": [
       "array([0.38738269, 0.81333846, 0.11451607, 0.15497027, 0.06449844,\n",
       "       0.26106119, 0.29956123, 0.51497865, 0.58172047, 0.06449844,\n",
       "       0.4646185 , 0.85267401, 0.22952598, 0.18755794, 0.67401534,\n",
       "       0.15497027, 0.34180027, 0.29272187, 0.75165379, 0.8304171 ,\n",
       "       0.51727128, 0.06449844, 0.25917149, 0.43561119, 0.29956123,\n",
       "       0.67263013, 0.14202702, 0.10040055, 0.48345715, 0.17069615,\n",
       "       0.54772139, 0.88090312, 0.86832911, 0.4646185 , 0.87776315,\n",
       "       0.18755794, 0.15497027, 0.30630463, 0.35644543, 0.59709781,\n",
       "       0.46850204, 0.54152107, 0.18755794, 0.39923868, 0.07767873,\n",
       "       0.67769593, 0.88090312, 0.39488223, 0.72202784, 0.17889442,\n",
       "       0.59387481, 0.15874794, 0.8488214 , 0.5879572 , 0.8633641 ,\n",
       "       0.39488223, 0.12243346, 0.52244186, 0.15497027, 0.30310458,\n",
       "       0.15497027, 0.52476138, 0.36052829, 0.87634468, 0.29272187,\n",
       "       0.72421747, 0.05787356, 0.40788993, 0.56617063, 0.67378831,\n",
       "       0.17069615, 0.47937572])"
      ]
     },
     "execution_count": 44,
     "metadata": {},
     "output_type": "execute_result"
    }
   ],
   "source": [
    "# prediction results (probability values for class 1) as numpy array\n",
    "results = np.fromstring(results, sep=',') # sep=',' or '\\n' or ' ' can be used. \n",
    "results"
   ]
  },
  {
   "cell_type": "code",
   "execution_count": 45,
   "id": "e2a993eb",
   "metadata": {},
   "outputs": [
    {
     "data": {
      "text/plain": [
       "array([0., 1., 0., 0., 0., 0., 0., 1., 1., 0., 0., 1., 0., 0., 1., 0., 0.,\n",
       "       0., 1., 1., 1., 0., 0., 0., 0., 1., 0., 0., 0., 0., 1., 1., 1., 0.,\n",
       "       1., 0., 0., 0., 0., 1., 0., 1., 0., 0., 0., 1., 1., 0., 1., 0., 1.,\n",
       "       0., 1., 1., 1., 0., 0., 1., 0., 0., 0., 1., 0., 1., 0., 1., 0., 0.,\n",
       "       1., 1., 0., 0.])"
      ]
     },
     "execution_count": 45,
     "metadata": {},
     "output_type": "execute_result"
    }
   ],
   "source": [
    "# converting prediction results into 0 and 1 classes.\n",
    "results1 = np.round(results)\n",
    "results1"
   ]
  },
  {
   "attachments": {},
   "cell_type": "markdown",
   "id": "5ed66531",
   "metadata": {},
   "source": [
    "## Check the Model Performance"
   ]
  },
  {
   "cell_type": "code",
   "execution_count": 46,
   "id": "d0d52337",
   "metadata": {},
   "outputs": [],
   "source": [
    "# Import related methods to check model performans.\n",
    "from sklearn.metrics import confusion_matrix, classification_report"
   ]
  },
  {
   "cell_type": "code",
   "execution_count": 47,
   "id": "58657684",
   "metadata": {},
   "outputs": [
    {
     "name": "stdout",
     "output_type": "stream",
     "text": [
      "[[36 11]\n",
      " [ 8 17]]\n",
      "**************************************************\n",
      "              precision    recall  f1-score   support\n",
      "\n",
      "           0       0.82      0.77      0.79        47\n",
      "           1       0.61      0.68      0.64        25\n",
      "\n",
      "    accuracy                           0.74        72\n",
      "   macro avg       0.71      0.72      0.72        72\n",
      "weighted avg       0.74      0.74      0.74        72\n",
      "\n"
     ]
    }
   ],
   "source": [
    "# model evaluation metrics for test data\n",
    "\n",
    "print(confusion_matrix(y_test, results1))\n",
    "print(\"*\"*50)\n",
    "print(classification_report(y_test, results1))"
   ]
  },
  {
   "attachments": {},
   "cell_type": "markdown",
   "id": "b4868294",
   "metadata": {},
   "source": [
    "### with treshold"
   ]
  },
  {
   "cell_type": "code",
   "execution_count": 48,
   "id": "dfe61e2b",
   "metadata": {},
   "outputs": [
    {
     "data": {
      "text/plain": [
       "array([0, 1, 0, 0, 0, 0, 0, 1, 1, 0, 1, 1, 0, 0, 1, 0, 0, 0, 1, 1, 1, 0,\n",
       "       0, 1, 0, 1, 0, 0, 1, 0, 1, 1, 1, 1, 1, 0, 0, 0, 0, 1, 1, 1, 0, 0,\n",
       "       0, 1, 1, 0, 1, 0, 1, 0, 1, 1, 1, 0, 0, 1, 0, 0, 0, 1, 0, 1, 0, 1,\n",
       "       0, 1, 1, 1, 0, 1], dtype=int32)"
      ]
     },
     "execution_count": 48,
     "metadata": {},
     "output_type": "execute_result"
    }
   ],
   "source": [
    "# converting prediction results into 0 and 1 classes using different treshold values.\n",
    "treshold = 0.4\n",
    "results2 = (results > treshold).astype(\"int32\")\n",
    "results2"
   ]
  },
  {
   "cell_type": "code",
   "execution_count": 49,
   "id": "252b4c0f",
   "metadata": {},
   "outputs": [
    {
     "name": "stdout",
     "output_type": "stream",
     "text": [
      "[[31 16]\n",
      " [ 6 19]]\n",
      "**************************************************\n",
      "              precision    recall  f1-score   support\n",
      "\n",
      "           0       0.84      0.66      0.74        47\n",
      "           1       0.54      0.76      0.63        25\n",
      "\n",
      "    accuracy                           0.69        72\n",
      "   macro avg       0.69      0.71      0.69        72\n",
      "weighted avg       0.74      0.69      0.70        72\n",
      "\n"
     ]
    }
   ],
   "source": [
    "# model evaluation metrics for test data with different tresholds\n",
    "\n",
    "print(confusion_matrix(y_test, results2))\n",
    "print(\"*\"*50)\n",
    "print(classification_report(y_test, results2))"
   ]
  },
  {
   "cell_type": "code",
   "execution_count": null,
   "id": "02adcee3",
   "metadata": {},
   "outputs": [],
   "source": []
  }
 ],
 "metadata": {
  "kernelspec": {
   "display_name": "streamlit",
   "language": "python",
   "name": "python3"
  },
  "language_info": {
   "codemirror_mode": {
    "name": "ipython",
    "version": 3
   },
   "file_extension": ".py",
   "mimetype": "text/x-python",
   "name": "python",
   "nbconvert_exporter": "python",
   "pygments_lexer": "ipython3",
   "version": "3.8.20"
  }
 },
 "nbformat": 4,
 "nbformat_minor": 5
}
